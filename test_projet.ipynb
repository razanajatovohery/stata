{
 "cells": [
  {
   "cell_type": "code",
   "execution_count": 2,
   "id": "e21a25a4",
   "metadata": {},
   "outputs": [],
   "source": [
    "import pandas as pd"
   ]
  },
  {
   "cell_type": "code",
   "execution_count": 5,
   "id": "26fbf384",
   "metadata": {},
   "outputs": [
    {
     "name": "stdout",
     "output_type": "stream",
     "text": [
      "  nom;matiere;note\n",
      "0         n1;m1;12\n",
      "1         n3;m5;15\n",
      "2         n5;m9;18\n",
      "3        n7;m13;21\n",
      "4        n9;m17;24\n"
     ]
    }
   ],
   "source": [
    "# Spécifiez le chemin du fichier CSV\n",
    "chemin_du_fichier = 'note.csv'\n",
    "\n",
    "# Lire le fichier CSV\n",
    "dataframe = pd.read_csv(chemin_du_fichier)\n",
    "\n",
    "# Afficher les premières lignes du dataframe\n",
    "print(dataframe.head())"
   ]
  }
 ],
 "metadata": {
  "kernelspec": {
   "display_name": "Python 3 (ipykernel)",
   "language": "python",
   "name": "python3"
  },
  "language_info": {
   "codemirror_mode": {
    "name": "ipython",
    "version": 3
   },
   "file_extension": ".py",
   "mimetype": "text/x-python",
   "name": "python",
   "nbconvert_exporter": "python",
   "pygments_lexer": "ipython3",
   "version": "3.7.4"
  }
 },
 "nbformat": 4,
 "nbformat_minor": 5
}
